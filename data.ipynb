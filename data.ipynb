{
 "cells": [
  {
   "cell_type": "code",
   "execution_count": 2,
   "outputs": [],
   "source": [
    "import pandas as pd\n",
    "import os"
   ],
   "metadata": {
    "collapsed": false,
    "pycharm": {
     "name": "#%%\n"
    }
   }
  },
  {
   "cell_type": "code",
   "execution_count": 26,
   "outputs": [
    {
     "data": {
      "text/plain": "['IUM22Z_Zad_02_01_v2/users.jsonl',\n 'IUM22Z_Zad_02_01_v2/track_storage.jsonl',\n 'IUM22Z_Zad_02_01_v2/sessions.jsonl',\n 'IUM22Z_Zad_02_01_v2/artists.jsonl',\n 'IUM22Z_Zad_02_01_v2/tracks.jsonl']"
     },
     "execution_count": 26,
     "metadata": {},
     "output_type": "execute_result"
    }
   ],
   "source": [
    "path_to_json = \"IUM22Z_Zad_02_01_v2/\"\n",
    "json_files = []\n",
    "for j in os.listdir(path_to_json):\n",
    "    json_files.append(path_to_json + j)\n",
    "json_files"
   ],
   "metadata": {
    "collapsed": false,
    "pycharm": {
     "name": "#%%\n"
    }
   }
  },
  {
   "cell_type": "code",
   "execution_count": 29,
   "outputs": [],
   "source": [
    "data = []\n",
    "for j in json_files:\n",
    "    df = pd.read_json(j, lines=True)\n",
    "    data.append(df)"
   ],
   "metadata": {
    "collapsed": false,
    "pycharm": {
     "name": "#%%\n"
    }
   }
  },
  {
   "cell_type": "code",
   "execution_count": 39,
   "outputs": [
    {
     "data": {
      "text/plain": "    user_id                 name      city                           street  \\\n0       101    Dominik Paździora   Wrocław           aleja Jabłoniowa 55/02   \n1       102       Justyna Mszyca    Poznań                   ul. Krótka 710   \n2       103       Kornelia Witka    Gdynia               al. Kościuszki 587   \n3       104       Jędrzej Kotala    Gdynia                pl. Kossaka 97/86   \n4       105         Karol Kleban    Kraków               ul. Tulipanowa 861   \n5       106      Julianna Kaczan   Wrocław                 ul. Kołłątaja 68   \n6       107     Anastazja Melcer    Kraków                  plac Niecała 28   \n7       108           Eryk Tylek  Warszawa              pl. Czereśniowa 601   \n8       109       Mateusz Czulak     Radom               ul. Azaliowa 60/54   \n9       110       Szymon Luberda    Kraków             aleja Wiśniowa 25/31   \n10      111        Norbert Tofil    Kraków            al. Niepodległości 85   \n11      112   Stanisław Szczepan  Szczecin                  pl. Sosnowa 774   \n12      113        Eliza Tłuczek     Radom                  aleja Torowa 85   \n13      114     Andrzej Łukowiak  Warszawa               al. Spokojna 13/83   \n14      115          Jerzy Leśko     Radom                 ul. Letnia 82/82   \n15      116     Juliusz Dzienisz   Wrocław       al. Powstańców Śląskich 82   \n16      117    Anastazja Majnusz    Kraków              plac Kasztanowa 756   \n17      118        Eryk Kajstura  Szczecin                 ul. Towarowa 842   \n18      119       Błażej Dudczak   Wrocław                    ul. Krucza 96   \n19      120     Andrzej Kazberuk    Gdynia                 al. Wilcza 53/78   \n20      121     Marcel Danilczuk    Gdynia              pl. Sikorskiego 807   \n21      122          Borys Detka   Wrocław            aleja Cyprysowa 49/05   \n22      123        Ryszard Rozum    Gdynia               al. Spokojna 07/23   \n23      124       Eryk Świerkosz    Gdynia              ul. Traugutta 11/79   \n24      125     Krzysztof Kasiak    Gdynia                     al. Górna 96   \n25      126         Eryk Kostera  Szczecin               ulica Fabryczna 60   \n26      127         Witold Jędra   Wrocław                  pl. Grzybowa 41   \n27      128        Olgierd Drgas  Szczecin                  ul. Towarowa 86   \n28      129   Maciej Jaszczyszyn  Szczecin                 pl. Promienna 21   \n29      130       Angelika Bulak  Warszawa      ul. Jana III Sobieskiego 18   \n30      131         Karol Tarach    Kraków                  aleja Kreta 272   \n31      132         Filip Mikosz  Szczecin              aleja Księżycowa 60   \n32      133           Maciej Moj    Gdynia           ulica Dąbrowskiego 521   \n33      134           Olaf Marko    Poznań                 plac Dworcowa 34   \n34      135          Inga Powała    Gdynia             al. Słonecznikowa 60   \n35      136  Nataniel Lemanowicz   Wrocław              plac Krasickiego 62   \n36      137   Ewelina Augustynek    Gdynia  ulica Bolesława Chrobrego 56/74   \n37      138          Robert Klus    Poznań             ulica Turystyczna 12   \n38      139      Wojciech Sadlik    Poznań                 al. Wiosenna 619   \n39      140         Ignacy Tytko  Warszawa              al. Dąbrowskiego 11   \n40      141   Maurycy Maziarczyk  Szczecin                  aleja Polna 330   \n41      142       Cezary Picheta  Szczecin                  al. Dworcowa 19   \n42      143      Rafał Maciuszek  Warszawa            pl. Szmaragdowa 50/24   \n43      144         Kaja Szelest   Wrocław               ulica Żeglarska 83   \n44      145      Nicole Czenczek   Wrocław                pl. Tartaczna 131   \n45      146        Nikodem Rajch    Poznań              plac Popiełuszki 06   \n46      147     Grzegorz Czuryło    Kraków                 al. Orkana 11/03   \n47      148         Janina Plich  Warszawa                pl. Poznańska 628   \n48      149         Jakub Kolman     Radom            plac Zapolskiej 91/73   \n49      150      Roksana Ścibior    Kraków              pl. Wojciecha 95/32   \n\n                                     favourite_genres  premium_user  \n0                       [dance pop, latin, hard rock]         False  \n1           [reggaeton, latin arena pop, modern rock]         False  \n2                               [rap, art rock, rock]         False  \n3   [mexican pop, contemporary country, psychedeli...         False  \n4             [rock, adult standards, permanent wave]         False  \n5                       [ranchera, canadian pop, pop]         False  \n6            [folk rock, dance pop, regional mexican]         False  \n7             [adult standards, dance pop, latin pop]         False  \n8                [electropop, latin arena pop, latin]          True  \n9                        [rock, reggaeton, hard rock]          True  \n10               [country, adult standards, ranchera]         False  \n11              [country, psychedelic rock, ranchera]         False  \n12                       [canadian pop, rap, hip hop]         False  \n13                [reggaeton, latin, k-pop boy group]         False  \n14                            [norteno, pop, pop rap]         False  \n15              [corrido, country road, canadian pop]         False  \n16                       [pop, art rock, mexican pop]         False  \n17  [mellow gold, alternative rock, psychedelic rock]          True  \n18        [nu metal, post-teen pop, regional mexican]         False  \n19          [tropical, canadian pop, latin arena pop]         False  \n20              [k-pop boy group, hip hop, dance pop]          True  \n21                        [rap, pop urbaine, norteno]         False  \n22                 [album rock, norteno, pop urbaine]         False  \n23  [contemporary country, canadian pop, k-pop boy...         False  \n24          [pop rap, permanent wave, french hip hop]         False  \n25                   [trap latino, pop rock, corrido]         False  \n26                [rock en espanol, k-pop, dance pop]         False  \n27             [rock en espanol, hip hop, electropop]         False  \n28          [permanent wave, post-teen pop, pop punk]         False  \n29                          [pop urbaine, k-pop, pop]          True  \n30                    [adult standards, r&b, hip hop]          True  \n31                             [pop, art rock, latin]         False  \n32      [classic rock, urban contemporary, latin pop]         False  \n33           [regional mexican, neo mellow, pop rock]         False  \n34                              [k-pop, pop, norteno]         False  \n35                [pop rock, urban contemporary, pop]         False  \n36              [alternative rock, classic rock, r&b]         False  \n37                           [k-pop, k-pop, ranchera]          True  \n38                    [mexican pop, pop rap, norteno]         False  \n39                [art rock, pop urbaine, neo mellow]         False  \n40      [k-pop boy group, alternative rock, ranchera]          True  \n41                   [latin pop, uk pop, modern rock]         False  \n42                        [reggaeton, country, k-pop]         False  \n43                      [metal, trap latino, corrido]          True  \n44         [post-teen pop, reggaeton, permanent wave]         False  \n45  [k-pop boy group, k-pop boy group, latin arena...         False  \n46                    [norteno, mexican pop, hip hop]         False  \n47     [psychedelic rock, latin pop, latin arena pop]         False  \n48                   [neo mellow, k-pop, post-grunge]         False  \n49                    [folk rock, tropical, nu metal]         False  ",
      "text/html": "<div>\n<style scoped>\n    .dataframe tbody tr th:only-of-type {\n        vertical-align: middle;\n    }\n\n    .dataframe tbody tr th {\n        vertical-align: top;\n    }\n\n    .dataframe thead th {\n        text-align: right;\n    }\n</style>\n<table border=\"1\" class=\"dataframe\">\n  <thead>\n    <tr style=\"text-align: right;\">\n      <th></th>\n      <th>user_id</th>\n      <th>name</th>\n      <th>city</th>\n      <th>street</th>\n      <th>favourite_genres</th>\n      <th>premium_user</th>\n    </tr>\n  </thead>\n  <tbody>\n    <tr>\n      <th>0</th>\n      <td>101</td>\n      <td>Dominik Paździora</td>\n      <td>Wrocław</td>\n      <td>aleja Jabłoniowa 55/02</td>\n      <td>[dance pop, latin, hard rock]</td>\n      <td>False</td>\n    </tr>\n    <tr>\n      <th>1</th>\n      <td>102</td>\n      <td>Justyna Mszyca</td>\n      <td>Poznań</td>\n      <td>ul. Krótka 710</td>\n      <td>[reggaeton, latin arena pop, modern rock]</td>\n      <td>False</td>\n    </tr>\n    <tr>\n      <th>2</th>\n      <td>103</td>\n      <td>Kornelia Witka</td>\n      <td>Gdynia</td>\n      <td>al. Kościuszki 587</td>\n      <td>[rap, art rock, rock]</td>\n      <td>False</td>\n    </tr>\n    <tr>\n      <th>3</th>\n      <td>104</td>\n      <td>Jędrzej Kotala</td>\n      <td>Gdynia</td>\n      <td>pl. Kossaka 97/86</td>\n      <td>[mexican pop, contemporary country, psychedeli...</td>\n      <td>False</td>\n    </tr>\n    <tr>\n      <th>4</th>\n      <td>105</td>\n      <td>Karol Kleban</td>\n      <td>Kraków</td>\n      <td>ul. Tulipanowa 861</td>\n      <td>[rock, adult standards, permanent wave]</td>\n      <td>False</td>\n    </tr>\n    <tr>\n      <th>5</th>\n      <td>106</td>\n      <td>Julianna Kaczan</td>\n      <td>Wrocław</td>\n      <td>ul. Kołłątaja 68</td>\n      <td>[ranchera, canadian pop, pop]</td>\n      <td>False</td>\n    </tr>\n    <tr>\n      <th>6</th>\n      <td>107</td>\n      <td>Anastazja Melcer</td>\n      <td>Kraków</td>\n      <td>plac Niecała 28</td>\n      <td>[folk rock, dance pop, regional mexican]</td>\n      <td>False</td>\n    </tr>\n    <tr>\n      <th>7</th>\n      <td>108</td>\n      <td>Eryk Tylek</td>\n      <td>Warszawa</td>\n      <td>pl. Czereśniowa 601</td>\n      <td>[adult standards, dance pop, latin pop]</td>\n      <td>False</td>\n    </tr>\n    <tr>\n      <th>8</th>\n      <td>109</td>\n      <td>Mateusz Czulak</td>\n      <td>Radom</td>\n      <td>ul. Azaliowa 60/54</td>\n      <td>[electropop, latin arena pop, latin]</td>\n      <td>True</td>\n    </tr>\n    <tr>\n      <th>9</th>\n      <td>110</td>\n      <td>Szymon Luberda</td>\n      <td>Kraków</td>\n      <td>aleja Wiśniowa 25/31</td>\n      <td>[rock, reggaeton, hard rock]</td>\n      <td>True</td>\n    </tr>\n    <tr>\n      <th>10</th>\n      <td>111</td>\n      <td>Norbert Tofil</td>\n      <td>Kraków</td>\n      <td>al. Niepodległości 85</td>\n      <td>[country, adult standards, ranchera]</td>\n      <td>False</td>\n    </tr>\n    <tr>\n      <th>11</th>\n      <td>112</td>\n      <td>Stanisław Szczepan</td>\n      <td>Szczecin</td>\n      <td>pl. Sosnowa 774</td>\n      <td>[country, psychedelic rock, ranchera]</td>\n      <td>False</td>\n    </tr>\n    <tr>\n      <th>12</th>\n      <td>113</td>\n      <td>Eliza Tłuczek</td>\n      <td>Radom</td>\n      <td>aleja Torowa 85</td>\n      <td>[canadian pop, rap, hip hop]</td>\n      <td>False</td>\n    </tr>\n    <tr>\n      <th>13</th>\n      <td>114</td>\n      <td>Andrzej Łukowiak</td>\n      <td>Warszawa</td>\n      <td>al. Spokojna 13/83</td>\n      <td>[reggaeton, latin, k-pop boy group]</td>\n      <td>False</td>\n    </tr>\n    <tr>\n      <th>14</th>\n      <td>115</td>\n      <td>Jerzy Leśko</td>\n      <td>Radom</td>\n      <td>ul. Letnia 82/82</td>\n      <td>[norteno, pop, pop rap]</td>\n      <td>False</td>\n    </tr>\n    <tr>\n      <th>15</th>\n      <td>116</td>\n      <td>Juliusz Dzienisz</td>\n      <td>Wrocław</td>\n      <td>al. Powstańców Śląskich 82</td>\n      <td>[corrido, country road, canadian pop]</td>\n      <td>False</td>\n    </tr>\n    <tr>\n      <th>16</th>\n      <td>117</td>\n      <td>Anastazja Majnusz</td>\n      <td>Kraków</td>\n      <td>plac Kasztanowa 756</td>\n      <td>[pop, art rock, mexican pop]</td>\n      <td>False</td>\n    </tr>\n    <tr>\n      <th>17</th>\n      <td>118</td>\n      <td>Eryk Kajstura</td>\n      <td>Szczecin</td>\n      <td>ul. Towarowa 842</td>\n      <td>[mellow gold, alternative rock, psychedelic rock]</td>\n      <td>True</td>\n    </tr>\n    <tr>\n      <th>18</th>\n      <td>119</td>\n      <td>Błażej Dudczak</td>\n      <td>Wrocław</td>\n      <td>ul. Krucza 96</td>\n      <td>[nu metal, post-teen pop, regional mexican]</td>\n      <td>False</td>\n    </tr>\n    <tr>\n      <th>19</th>\n      <td>120</td>\n      <td>Andrzej Kazberuk</td>\n      <td>Gdynia</td>\n      <td>al. Wilcza 53/78</td>\n      <td>[tropical, canadian pop, latin arena pop]</td>\n      <td>False</td>\n    </tr>\n    <tr>\n      <th>20</th>\n      <td>121</td>\n      <td>Marcel Danilczuk</td>\n      <td>Gdynia</td>\n      <td>pl. Sikorskiego 807</td>\n      <td>[k-pop boy group, hip hop, dance pop]</td>\n      <td>True</td>\n    </tr>\n    <tr>\n      <th>21</th>\n      <td>122</td>\n      <td>Borys Detka</td>\n      <td>Wrocław</td>\n      <td>aleja Cyprysowa 49/05</td>\n      <td>[rap, pop urbaine, norteno]</td>\n      <td>False</td>\n    </tr>\n    <tr>\n      <th>22</th>\n      <td>123</td>\n      <td>Ryszard Rozum</td>\n      <td>Gdynia</td>\n      <td>al. Spokojna 07/23</td>\n      <td>[album rock, norteno, pop urbaine]</td>\n      <td>False</td>\n    </tr>\n    <tr>\n      <th>23</th>\n      <td>124</td>\n      <td>Eryk Świerkosz</td>\n      <td>Gdynia</td>\n      <td>ul. Traugutta 11/79</td>\n      <td>[contemporary country, canadian pop, k-pop boy...</td>\n      <td>False</td>\n    </tr>\n    <tr>\n      <th>24</th>\n      <td>125</td>\n      <td>Krzysztof Kasiak</td>\n      <td>Gdynia</td>\n      <td>al. Górna 96</td>\n      <td>[pop rap, permanent wave, french hip hop]</td>\n      <td>False</td>\n    </tr>\n    <tr>\n      <th>25</th>\n      <td>126</td>\n      <td>Eryk Kostera</td>\n      <td>Szczecin</td>\n      <td>ulica Fabryczna 60</td>\n      <td>[trap latino, pop rock, corrido]</td>\n      <td>False</td>\n    </tr>\n    <tr>\n      <th>26</th>\n      <td>127</td>\n      <td>Witold Jędra</td>\n      <td>Wrocław</td>\n      <td>pl. Grzybowa 41</td>\n      <td>[rock en espanol, k-pop, dance pop]</td>\n      <td>False</td>\n    </tr>\n    <tr>\n      <th>27</th>\n      <td>128</td>\n      <td>Olgierd Drgas</td>\n      <td>Szczecin</td>\n      <td>ul. Towarowa 86</td>\n      <td>[rock en espanol, hip hop, electropop]</td>\n      <td>False</td>\n    </tr>\n    <tr>\n      <th>28</th>\n      <td>129</td>\n      <td>Maciej Jaszczyszyn</td>\n      <td>Szczecin</td>\n      <td>pl. Promienna 21</td>\n      <td>[permanent wave, post-teen pop, pop punk]</td>\n      <td>False</td>\n    </tr>\n    <tr>\n      <th>29</th>\n      <td>130</td>\n      <td>Angelika Bulak</td>\n      <td>Warszawa</td>\n      <td>ul. Jana III Sobieskiego 18</td>\n      <td>[pop urbaine, k-pop, pop]</td>\n      <td>True</td>\n    </tr>\n    <tr>\n      <th>30</th>\n      <td>131</td>\n      <td>Karol Tarach</td>\n      <td>Kraków</td>\n      <td>aleja Kreta 272</td>\n      <td>[adult standards, r&amp;b, hip hop]</td>\n      <td>True</td>\n    </tr>\n    <tr>\n      <th>31</th>\n      <td>132</td>\n      <td>Filip Mikosz</td>\n      <td>Szczecin</td>\n      <td>aleja Księżycowa 60</td>\n      <td>[pop, art rock, latin]</td>\n      <td>False</td>\n    </tr>\n    <tr>\n      <th>32</th>\n      <td>133</td>\n      <td>Maciej Moj</td>\n      <td>Gdynia</td>\n      <td>ulica Dąbrowskiego 521</td>\n      <td>[classic rock, urban contemporary, latin pop]</td>\n      <td>False</td>\n    </tr>\n    <tr>\n      <th>33</th>\n      <td>134</td>\n      <td>Olaf Marko</td>\n      <td>Poznań</td>\n      <td>plac Dworcowa 34</td>\n      <td>[regional mexican, neo mellow, pop rock]</td>\n      <td>False</td>\n    </tr>\n    <tr>\n      <th>34</th>\n      <td>135</td>\n      <td>Inga Powała</td>\n      <td>Gdynia</td>\n      <td>al. Słonecznikowa 60</td>\n      <td>[k-pop, pop, norteno]</td>\n      <td>False</td>\n    </tr>\n    <tr>\n      <th>35</th>\n      <td>136</td>\n      <td>Nataniel Lemanowicz</td>\n      <td>Wrocław</td>\n      <td>plac Krasickiego 62</td>\n      <td>[pop rock, urban contemporary, pop]</td>\n      <td>False</td>\n    </tr>\n    <tr>\n      <th>36</th>\n      <td>137</td>\n      <td>Ewelina Augustynek</td>\n      <td>Gdynia</td>\n      <td>ulica Bolesława Chrobrego 56/74</td>\n      <td>[alternative rock, classic rock, r&amp;b]</td>\n      <td>False</td>\n    </tr>\n    <tr>\n      <th>37</th>\n      <td>138</td>\n      <td>Robert Klus</td>\n      <td>Poznań</td>\n      <td>ulica Turystyczna 12</td>\n      <td>[k-pop, k-pop, ranchera]</td>\n      <td>True</td>\n    </tr>\n    <tr>\n      <th>38</th>\n      <td>139</td>\n      <td>Wojciech Sadlik</td>\n      <td>Poznań</td>\n      <td>al. Wiosenna 619</td>\n      <td>[mexican pop, pop rap, norteno]</td>\n      <td>False</td>\n    </tr>\n    <tr>\n      <th>39</th>\n      <td>140</td>\n      <td>Ignacy Tytko</td>\n      <td>Warszawa</td>\n      <td>al. Dąbrowskiego 11</td>\n      <td>[art rock, pop urbaine, neo mellow]</td>\n      <td>False</td>\n    </tr>\n    <tr>\n      <th>40</th>\n      <td>141</td>\n      <td>Maurycy Maziarczyk</td>\n      <td>Szczecin</td>\n      <td>aleja Polna 330</td>\n      <td>[k-pop boy group, alternative rock, ranchera]</td>\n      <td>True</td>\n    </tr>\n    <tr>\n      <th>41</th>\n      <td>142</td>\n      <td>Cezary Picheta</td>\n      <td>Szczecin</td>\n      <td>al. Dworcowa 19</td>\n      <td>[latin pop, uk pop, modern rock]</td>\n      <td>False</td>\n    </tr>\n    <tr>\n      <th>42</th>\n      <td>143</td>\n      <td>Rafał Maciuszek</td>\n      <td>Warszawa</td>\n      <td>pl. Szmaragdowa 50/24</td>\n      <td>[reggaeton, country, k-pop]</td>\n      <td>False</td>\n    </tr>\n    <tr>\n      <th>43</th>\n      <td>144</td>\n      <td>Kaja Szelest</td>\n      <td>Wrocław</td>\n      <td>ulica Żeglarska 83</td>\n      <td>[metal, trap latino, corrido]</td>\n      <td>True</td>\n    </tr>\n    <tr>\n      <th>44</th>\n      <td>145</td>\n      <td>Nicole Czenczek</td>\n      <td>Wrocław</td>\n      <td>pl. Tartaczna 131</td>\n      <td>[post-teen pop, reggaeton, permanent wave]</td>\n      <td>False</td>\n    </tr>\n    <tr>\n      <th>45</th>\n      <td>146</td>\n      <td>Nikodem Rajch</td>\n      <td>Poznań</td>\n      <td>plac Popiełuszki 06</td>\n      <td>[k-pop boy group, k-pop boy group, latin arena...</td>\n      <td>False</td>\n    </tr>\n    <tr>\n      <th>46</th>\n      <td>147</td>\n      <td>Grzegorz Czuryło</td>\n      <td>Kraków</td>\n      <td>al. Orkana 11/03</td>\n      <td>[norteno, mexican pop, hip hop]</td>\n      <td>False</td>\n    </tr>\n    <tr>\n      <th>47</th>\n      <td>148</td>\n      <td>Janina Plich</td>\n      <td>Warszawa</td>\n      <td>pl. Poznańska 628</td>\n      <td>[psychedelic rock, latin pop, latin arena pop]</td>\n      <td>False</td>\n    </tr>\n    <tr>\n      <th>48</th>\n      <td>149</td>\n      <td>Jakub Kolman</td>\n      <td>Radom</td>\n      <td>plac Zapolskiej 91/73</td>\n      <td>[neo mellow, k-pop, post-grunge]</td>\n      <td>False</td>\n    </tr>\n    <tr>\n      <th>49</th>\n      <td>150</td>\n      <td>Roksana Ścibior</td>\n      <td>Kraków</td>\n      <td>pl. Wojciecha 95/32</td>\n      <td>[folk rock, tropical, nu metal]</td>\n      <td>False</td>\n    </tr>\n  </tbody>\n</table>\n</div>"
     },
     "execution_count": 39,
     "metadata": {},
     "output_type": "execute_result"
    }
   ],
   "source": [
    "data[0]"
   ],
   "metadata": {
    "collapsed": false,
    "pycharm": {
     "name": "#%%\n"
    }
   }
  },
  {
   "cell_type": "code",
   "execution_count": null,
   "outputs": [],
   "source": [],
   "metadata": {
    "collapsed": false,
    "pycharm": {
     "name": "#%%\n"
    }
   }
  }
 ],
 "metadata": {
  "kernelspec": {
   "display_name": "Python 3",
   "language": "python",
   "name": "python3"
  },
  "language_info": {
   "codemirror_mode": {
    "name": "ipython",
    "version": 2
   },
   "file_extension": ".py",
   "mimetype": "text/x-python",
   "name": "python",
   "nbconvert_exporter": "python",
   "pygments_lexer": "ipython2",
   "version": "2.7.6"
  }
 },
 "nbformat": 4,
 "nbformat_minor": 0
}